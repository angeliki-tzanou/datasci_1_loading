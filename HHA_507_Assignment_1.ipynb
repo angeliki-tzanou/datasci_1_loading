{
  "nbformat": 4,
  "nbformat_minor": 0,
  "metadata": {
    "colab": {
      "provenance": [],
      "authorship_tag": "ABX9TyPdux7W1iy9gsetljDyvmr6",
      "include_colab_link": true
    },
    "kernelspec": {
      "name": "python3",
      "display_name": "Python 3"
    },
    "language_info": {
      "name": "python"
    }
  },
  "cells": [
    {
      "cell_type": "markdown",
      "metadata": {
        "id": "view-in-github",
        "colab_type": "text"
      },
      "source": [
        "<a href=\"https://colab.research.google.com/github/angeliki-tzanou/datasci_1_loading/blob/main/HHA_507_Assignment_1.ipynb\" target=\"_parent\"><img src=\"https://colab.research.google.com/assets/colab-badge.svg\" alt=\"Open In Colab\"/></a>"
      ]
    },
    {
      "cell_type": "markdown",
      "source": [
        "#**CSV Files**"
      ],
      "metadata": {
        "id": "WlAgt8I0zlIF"
      }
    },
    {
      "cell_type": "code",
      "execution_count": 1,
      "metadata": {
        "id": "7x63BX9Rs6r6"
      },
      "outputs": [],
      "source": [
        "import pandas as pd\n"
      ]
    },
    {
      "cell_type": "code",
      "source": [
        "df1 = pd.read_csv(\"StudentMentalhealth.csv\")"
      ],
      "metadata": {
        "id": "6KlOX0Duz2wu"
      },
      "execution_count": 4,
      "outputs": []
    },
    {
      "cell_type": "code",
      "source": [
        "print(df1)"
      ],
      "metadata": {
        "colab": {
          "base_uri": "https://localhost:8080/"
        },
        "id": "QK3WZwuw0Si5",
        "outputId": "e46b008a-7cfa-445f-f54d-50b44e8b7344"
      },
      "execution_count": 5,
      "outputs": [
        {
          "output_type": "stream",
          "name": "stdout",
          "text": [
            "               Timestamp Choose your gender   Age What is your course?  \\\n",
            "0         8/7/2020 12:02             Female  18.0          Engineering   \n",
            "1         8/7/2020 12:04               Male  21.0    Islamic education   \n",
            "2         8/7/2020 12:05               Male  19.0                  BIT   \n",
            "3         8/7/2020 12:06             Female  22.0                 Laws   \n",
            "4         8/7/2020 12:13               Male  23.0         Mathemathics   \n",
            "..                   ...                ...   ...                  ...   \n",
            "96   13/07/2020 19:56:49             Female  21.0                  BCS   \n",
            "97   13/07/2020 21:21:42               Male  18.0          Engineering   \n",
            "98   13/07/2020 21:22:56             Female  19.0             Nursing    \n",
            "99   13/07/2020 21:23:57             Female  23.0     Pendidikan Islam   \n",
            "100  18/07/2020 20:16:21               Male  20.0   Biomedical science   \n",
            "\n",
            "    Your current year of Study What is your CGPA? Marital status  \\\n",
            "0                       year 1        3.00 - 3.49             No   \n",
            "1                       year 2        3.00 - 3.49             No   \n",
            "2                       Year 1        3.00 - 3.49             No   \n",
            "3                       year 3        3.00 - 3.49            Yes   \n",
            "4                       year 4        3.00 - 3.49             No   \n",
            "..                         ...                ...            ...   \n",
            "96                      year 1        3.50 - 4.00             No   \n",
            "97                      Year 2        3.00 - 3.49             No   \n",
            "98                      Year 3        3.50 - 4.00            Yes   \n",
            "99                      year 4        3.50 - 4.00             No   \n",
            "100                     Year 2        3.00 - 3.49             No   \n",
            "\n",
            "    Do you have Depression? Do you have Anxiety? Do you have Panic attack?  \\\n",
            "0                       Yes                   No                       Yes   \n",
            "1                        No                  Yes                        No   \n",
            "2                       Yes                  Yes                       Yes   \n",
            "3                       Yes                   No                        No   \n",
            "4                        No                   No                        No   \n",
            "..                      ...                  ...                       ...   \n",
            "96                       No                  Yes                        No   \n",
            "97                      Yes                  Yes                        No   \n",
            "98                      Yes                   No                       Yes   \n",
            "99                       No                   No                        No   \n",
            "100                      No                   No                        No   \n",
            "\n",
            "    Did you seek any specialist for a treatment?  \n",
            "0                                             No  \n",
            "1                                             No  \n",
            "2                                             No  \n",
            "3                                             No  \n",
            "4                                             No  \n",
            "..                                           ...  \n",
            "96                                            No  \n",
            "97                                            No  \n",
            "98                                            No  \n",
            "99                                            No  \n",
            "100                                           No  \n",
            "\n",
            "[101 rows x 11 columns]\n"
          ]
        }
      ]
    }
  ]
}